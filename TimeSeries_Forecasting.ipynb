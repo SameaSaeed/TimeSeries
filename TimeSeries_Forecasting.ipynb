{
  "nbformat": 4,
  "nbformat_minor": 0,
  "metadata": {
    "colab": {
      "provenance": [],
      "gpuType": "T4"
    },
    "kernelspec": {
      "name": "python3",
      "display_name": "Python 3"
    },
    "language_info": {
      "name": "python"
    },
    "accelerator": "GPU"
  },
  "cells": [
    {
      "cell_type": "markdown",
      "source": [
        "**ARIMA**"
      ],
      "metadata": {
        "id": "7ph6Bxkhqkju"
      }
    },
    {
      "cell_type": "code",
      "source": [
        "import pandas as pd\n",
        "from statsmodels.tsa.arima.model import ARIMA\n",
        "\n",
        "# Load and prepare data\n",
        "df = pd.read_csv(\"/content/drive/MyDrive/demand.csv\", parse_dates=[\"observation_date\"])\n",
        "df.set_index(\"observation_date\", inplace=True)\n",
        "series = df[\"demand\"]\n",
        "\n",
        "# Fit ARIMA model (adjust order as needed)\n",
        "model = ARIMA(series, order=(5,1,0))\n",
        "model_fit = model.fit()\n",
        "print(model_fit.summary())\n",
        "\n",
        "# Forecast next steps\n",
        "forecast = model_fit.forecast(steps=10)\n",
        "print(forecast)"
      ],
      "metadata": {
        "id": "feJumbN6qtVP",
        "outputId": "ff55d0aa-0fd4-4ce0-d4e7-c70394fc7fb6",
        "colab": {
          "base_uri": "https://localhost:8080/"
        }
      },
      "execution_count": null,
      "outputs": [
        {
          "output_type": "stream",
          "name": "stderr",
          "text": [
            "/usr/local/lib/python3.11/dist-packages/statsmodels/tsa/base/tsa_model.py:473: ValueWarning: No frequency information was provided, so inferred frequency MS will be used.\n",
            "  self._init_dates(dates, freq)\n",
            "/usr/local/lib/python3.11/dist-packages/statsmodels/tsa/base/tsa_model.py:473: ValueWarning: No frequency information was provided, so inferred frequency MS will be used.\n",
            "  self._init_dates(dates, freq)\n",
            "/usr/local/lib/python3.11/dist-packages/statsmodels/tsa/base/tsa_model.py:473: ValueWarning: No frequency information was provided, so inferred frequency MS will be used.\n",
            "  self._init_dates(dates, freq)\n"
          ]
        },
        {
          "output_type": "stream",
          "name": "stdout",
          "text": [
            "                               SARIMAX Results                                \n",
            "==============================================================================\n",
            "Dep. Variable:                 demand   No. Observations:                 1038\n",
            "Model:                 ARIMA(5, 1, 0)   Log Likelihood               -2646.994\n",
            "Date:                Mon, 11 Aug 2025   AIC                           5305.988\n",
            "Time:                        15:06:10   BIC                           5335.652\n",
            "Sample:                    01-01-1939   HQIC                          5317.243\n",
            "                         - 06-01-2025                                         \n",
            "Covariance Type:                  opg                                         \n",
            "==============================================================================\n",
            "                 coef    std err          z      P>|z|      [0.025      0.975]\n",
            "------------------------------------------------------------------------------\n",
            "ar.L1         -0.0759      0.021     -3.687      0.000      -0.116      -0.036\n",
            "ar.L2         -0.4233      0.022    -19.246      0.000      -0.466      -0.380\n",
            "ar.L3         -0.5520      0.021    -26.671      0.000      -0.593      -0.511\n",
            "ar.L4         -0.4145      0.021    -19.443      0.000      -0.456      -0.373\n",
            "ar.L5         -0.0672      0.026     -2.604      0.009      -0.118      -0.017\n",
            "sigma2         9.6217      0.288     33.409      0.000       9.057      10.186\n",
            "===================================================================================\n",
            "Ljung-Box (L1) (Q):                   0.00   Jarque-Bera (JB):               449.14\n",
            "Prob(Q):                              0.96   Prob(JB):                         0.00\n",
            "Heteroskedasticity (H):             120.31   Skew:                             0.09\n",
            "Prob(H) (two-sided):                  0.00   Kurtosis:                         6.22\n",
            "===================================================================================\n",
            "\n",
            "Warnings:\n",
            "[1] Covariance matrix calculated using the outer product of gradients (complex-step).\n",
            "2025-07-01    118.803371\n",
            "2025-08-01    115.505955\n",
            "2025-09-01    103.542106\n",
            "2025-10-01     94.104729\n",
            "2025-11-01     96.525614\n",
            "2025-12-01    107.627690\n",
            "2026-01-01    116.150521\n",
            "2026-02-01    114.184780\n",
            "2026-03-01    104.229694\n",
            "2026-04-01     96.348145\n",
            "Freq: MS, Name: predicted_mean, dtype: float64\n"
          ]
        }
      ]
    },
    {
      "cell_type": "markdown",
      "source": [
        "**Prophet**"
      ],
      "metadata": {
        "id": "R5ddE_m1qztT"
      }
    },
    {
      "cell_type": "code",
      "source": [
        "import pandas as pd\n",
        "from prophet import Prophet\n",
        "\n",
        "# ================================\n",
        "# Load data\n",
        "# ================================\n",
        "df = pd.read_csv(\"/content/drive/MyDrive/demand.csv\")  # replace with your file name\n",
        "df['observation_date'] = pd.to_datetime(df['observation_date'])  # Convert to datetime\n",
        "df.columns = ['ds', 'y']  # Prophet needs 'ds' and 'y'\n",
        "\n",
        "# ================================\n",
        "# Add elapsed time columns\n",
        "# ================================\n",
        "start_date = df['ds'].min()\n",
        "df['days_since'] = (df['ds'] - start_date).dt.days\n",
        "df['weeks_since'] = df['days_since'] // 7\n",
        "df['years_since'] = df['days_since'] / 365.25  # approx years including leap years\n",
        "\n",
        "# ================================\n",
        "# Hourly Prediction\n",
        "# ================================\n",
        "df_hourly = df.resample('H', on='ds').sum().reset_index()  # resample to hourly\n",
        "model_hourly = Prophet()\n",
        "model_hourly.fit(df_hourly)\n",
        "\n",
        "future_hourly = model_hourly.make_future_dataframe(periods=24, freq='H')  # Next 24 hours\n",
        "forecast_hourly = model_hourly.predict(future_hourly)\n",
        "\n",
        "# ================================\n",
        "# Daily Prediction\n",
        "# ================================\n",
        "df_daily = df.resample('D', on='ds').sum().reset_index()\n",
        "model_daily = Prophet()\n",
        "model_daily.fit(df_daily)\n",
        "future_daily = model_daily.make_future_dataframe(periods=7, freq='D')  # Next 7 days\n",
        "forecast_daily = model_daily.predict(future_daily)\n",
        "\n",
        "# ================================\n",
        "# Weekly Prediction\n",
        "# ================================\n",
        "df_weekly = df.resample('W', on='ds').sum().reset_index()\n",
        "model_weekly = Prophet()\n",
        "model_weekly.fit(df_weekly)\n",
        "future_weekly = model_weekly.make_future_dataframe(periods=4, freq='W')  # Next 4 weeks\n",
        "forecast_weekly = model_weekly.predict(future_weekly)\n",
        "\n",
        "# ================================\n",
        "# Yearly Prediction\n",
        "# ================================\n",
        "df_yearly = df.resample('Y', on='ds').sum().reset_index()\n",
        "model_yearly = Prophet()\n",
        "model_yearly.fit(df_yearly)\n",
        "future_yearly = model_yearly.make_future_dataframe(periods=2, freq='Y')  # Next 2 years\n",
        "forecast_yearly = model_yearly.predict(future_yearly)\n",
        "\n",
        "# ================================\n",
        "# Output\n",
        "# ================================\n",
        "\n",
        "print(\"Original Data with days/weeks/years since start:\")\n",
        "print(df.head())\n",
        "\n",
        "print(\"\\nHourly forecast:\")\n",
        "print(forecast_hourly[['ds', 'yhat', 'yhat_lower', 'yhat_upper']].head())\n",
        "\n",
        "print(\"\\nDaily forecast:\")\n",
        "print(forecast_daily[['ds', 'yhat', 'yhat_lower', 'yhat_upper']].head())\n",
        "\n",
        "print(\"\\nWeekly forecast:\")\n",
        "print(forecast_weekly[['ds', 'yhat', 'yhat_lower', 'yhat_upper']].head())\n",
        "\n",
        "print(\"\\nYearly forecast:\")\n",
        "print(forecast_yearly[['ds', 'yhat', 'yhat_lower', 'yhat_upper']].head())\n",
        "\n",
        "model_hourly.add_seasonality(name='hourly', period=24, fourier_order=3)"
      ],
      "metadata": {
        "id": "71ImLDS7oq_D",
        "outputId": "e79daf14-e6c8-4d84-dea1-718a9e568c26",
        "colab": {
          "base_uri": "https://localhost:8080/"
        }
      },
      "execution_count": null,
      "outputs": [
        {
          "output_type": "stream",
          "name": "stderr",
          "text": [
            "INFO:prophet:Disabling daily seasonality. Run prophet with daily_seasonality=True to override this.\n",
            "DEBUG:cmdstanpy:input tempfile: /tmp/tmpw_d9sgbj/jkm36nu7.json\n",
            "DEBUG:cmdstanpy:input tempfile: /tmp/tmpw_d9sgbj/i5nck1kg.json\n",
            "DEBUG:cmdstanpy:idx 0\n",
            "DEBUG:cmdstanpy:running CmdStan, num_threads: None\n",
            "DEBUG:cmdstanpy:CmdStan args: ['/usr/local/lib/python3.11/dist-packages/prophet/stan_model/prophet_model.bin', 'random', 'seed=16450', 'data', 'file=/tmp/tmpw_d9sgbj/jkm36nu7.json', 'init=/tmp/tmpw_d9sgbj/i5nck1kg.json', 'output', 'file=/tmp/tmpw_d9sgbj/prophet_model03j4dluv/prophet_model-20250811145849.csv', 'method=optimize', 'algorithm=lbfgs', 'iter=10000']\n",
            "14:58:49 - cmdstanpy - INFO - Chain [1] start processing\n",
            "INFO:cmdstanpy:Chain [1] start processing\n",
            "14:58:54 - cmdstanpy - INFO - Chain [1] done processing\n",
            "INFO:cmdstanpy:Chain [1] done processing\n",
            "INFO:prophet:Disabling weekly seasonality. Run prophet with weekly_seasonality=True to override this.\n",
            "INFO:prophet:Disabling daily seasonality. Run prophet with daily_seasonality=True to override this.\n",
            "DEBUG:cmdstanpy:input tempfile: /tmp/tmpw_d9sgbj/4_r4i6nk.json\n",
            "DEBUG:cmdstanpy:input tempfile: /tmp/tmpw_d9sgbj/fby8p5qn.json\n",
            "DEBUG:cmdstanpy:idx 0\n",
            "DEBUG:cmdstanpy:running CmdStan, num_threads: None\n",
            "DEBUG:cmdstanpy:CmdStan args: ['/usr/local/lib/python3.11/dist-packages/prophet/stan_model/prophet_model.bin', 'random', 'seed=72026', 'data', 'file=/tmp/tmpw_d9sgbj/4_r4i6nk.json', 'init=/tmp/tmpw_d9sgbj/fby8p5qn.json', 'output', 'file=/tmp/tmpw_d9sgbj/prophet_model3345n3ig/prophet_model-20250811145900.csv', 'method=optimize', 'algorithm=lbfgs', 'iter=10000']\n",
            "14:59:00 - cmdstanpy - INFO - Chain [1] start processing\n",
            "INFO:cmdstanpy:Chain [1] start processing\n",
            "14:59:00 - cmdstanpy - INFO - Chain [1] done processing\n",
            "INFO:cmdstanpy:Chain [1] done processing\n",
            "/tmp/ipython-input-1929203425.py:40: FutureWarning: 'Y' is deprecated and will be removed in a future version, please use 'YE' instead.\n",
            "  df_yearly = df.resample('Y', on='ds').sum().reset_index()\n",
            "INFO:prophet:Disabling weekly seasonality. Run prophet with weekly_seasonality=True to override this.\n",
            "INFO:prophet:Disabling daily seasonality. Run prophet with daily_seasonality=True to override this.\n",
            "DEBUG:cmdstanpy:input tempfile: /tmp/tmpw_d9sgbj/43zsbvng.json\n",
            "DEBUG:cmdstanpy:input tempfile: /tmp/tmpw_d9sgbj/u9ji5w2c.json\n",
            "DEBUG:cmdstanpy:idx 0\n",
            "DEBUG:cmdstanpy:running CmdStan, num_threads: None\n",
            "DEBUG:cmdstanpy:CmdStan args: ['/usr/local/lib/python3.11/dist-packages/prophet/stan_model/prophet_model.bin', 'random', 'seed=44084', 'data', 'file=/tmp/tmpw_d9sgbj/43zsbvng.json', 'init=/tmp/tmpw_d9sgbj/u9ji5w2c.json', 'output', 'file=/tmp/tmpw_d9sgbj/prophet_modelp2snq3w8/prophet_model-20250811145901.csv', 'method=optimize', 'algorithm=newton', 'iter=10000']\n",
            "14:59:01 - cmdstanpy - INFO - Chain [1] start processing\n",
            "INFO:cmdstanpy:Chain [1] start processing\n",
            "14:59:01 - cmdstanpy - INFO - Chain [1] done processing\n",
            "INFO:cmdstanpy:Chain [1] done processing\n"
          ]
        },
        {
          "output_type": "stream",
          "name": "stdout",
          "text": [
            "Original Data with days/weeks/years since start:\n",
            "          ds       y  days_since  weeks_since  years_since\n",
            "0 1939-01-01  3.3336           0            0     0.000000\n",
            "1 1939-02-01  3.3591          31            4     0.084873\n",
            "2 1939-03-01  3.4354          59            8     0.161533\n",
            "3 1939-04-01  3.4608          90           12     0.246407\n",
            "4 1939-05-01  3.4608         120           17     0.328542\n",
            "\n",
            "Daily forecast:\n",
            "          ds      yhat  yhat_lower  yhat_upper\n",
            "0 1939-01-01  0.617949  -15.538693   15.628557\n",
            "1 1939-01-02  0.609988  -15.259931   16.575148\n",
            "2 1939-01-03  0.595919  -16.020045   16.032296\n",
            "3 1939-01-04  0.603391  -14.956733   16.026845\n",
            "4 1939-01-05  0.564059  -14.089460   16.072867\n",
            "\n",
            "Weekly forecast:\n",
            "          ds      yhat  yhat_lower  yhat_upper\n",
            "0 1939-01-01  2.546801  -36.803374   37.671991\n",
            "1 1939-01-08  2.784155  -34.650720   39.833711\n",
            "2 1939-01-15 -0.003556  -35.406830   36.436764\n",
            "3 1939-01-22 -2.756358  -39.734101   31.418936\n",
            "4 1939-01-29 -2.515547  -38.108671   36.714170\n",
            "\n",
            "Yearly forecast:\n",
            "          ds       yhat  yhat_lower  yhat_upper\n",
            "0 1939-12-31 -53.718853 -147.795072   48.282998\n",
            "1 1940-12-31 -46.363726 -146.116845   60.139105\n",
            "2 1941-12-31 -36.672637 -142.511936   61.203098\n",
            "3 1942-12-31 -15.072391 -112.427383   84.603743\n",
            "4 1943-12-31  18.427607  -84.577182  121.586851\n"
          ]
        },
        {
          "output_type": "stream",
          "name": "stderr",
          "text": [
            "/usr/local/lib/python3.11/dist-packages/prophet/forecaster.py:1872: FutureWarning: 'Y' is deprecated and will be removed in a future version, please use 'YE' instead.\n",
            "  dates = pd.date_range(\n"
          ]
        }
      ]
    },
    {
      "cell_type": "markdown",
      "source": [
        "**LSTM Univariate**"
      ],
      "metadata": {
        "id": "km53sLK6q6A8"
      }
    },
    {
      "cell_type": "code",
      "source": [
        "import pandas as pd\n",
        "import numpy as np\n",
        "from sklearn.preprocessing import MinMaxScaler\n",
        "from tensorflow.keras.models import Sequential\n",
        "from tensorflow.keras.layers import LSTM, Dense\n",
        "\n",
        "# Load and scale data\n",
        "df = pd.read_csv(\"/content/drive/MyDrive/demand.csv\", parse_dates=[\"observation_date\"])\n",
        "data = df[\"demand\"].values.reshape(-1,1)\n",
        "scaler = MinMaxScaler()\n",
        "scaled = scaler.fit_transform(data)\n",
        "\n",
        "# Prepare sequences\n",
        "def create_sequences(data, seq_len=10):\n",
        "    X, y = [], []\n",
        "    for i in range(len(data) - seq_len):\n",
        "        X.append(data[i:i+seq_len])\n",
        "        y.append(data[i+seq_len])\n",
        "    return np.array(X), np.array(y)\n",
        "\n",
        "SEQ_LEN = 10\n",
        "X, y = create_sequences(scaled, SEQ_LEN)\n",
        "X_train, y_train = X, y\n",
        "\n",
        "# Build LSTM model\n",
        "model = Sequential([\n",
        "    LSTM(50, activation='relu', input_shape=(SEQ_LEN, 1)),\n",
        "    Dense(1)\n",
        "])\n",
        "model.compile(optimizer='adam', loss='mse')\n",
        "model.fit(X_train, y_train, epochs=50, batch_size=16, validation_split=0.2)\n",
        "\n",
        "# Forecasting\n",
        "last_seq = scaled[-SEQ_LEN:].reshape(1, SEQ_LEN, 1)\n",
        "pred = model.predict(last_seq)\n",
        "pred_rescaled = scaler.inverse_transform(pred)\n",
        "print(\"Next demand forecast:\", pred_rescaled.flatten()[0])"
      ],
      "metadata": {
        "colab": {
          "base_uri": "https://localhost:8080/"
        },
        "id": "4iBJiDV_f65q",
        "outputId": "9b30a1fd-be95-47f0-a83f-237b659bf8e1"
      },
      "execution_count": null,
      "outputs": [
        {
          "output_type": "stream",
          "name": "stdout",
          "text": [
            "Epoch 1/50\n",
            "\u001b[1m52/52\u001b[0m \u001b[32m━━━━━━━━━━━━━━━━━━━━\u001b[0m\u001b[37m\u001b[0m \u001b[1m6s\u001b[0m 38ms/step - loss: 0.1258 - val_loss: 0.0105\n",
            "Epoch 2/50\n",
            "\u001b[1m52/52\u001b[0m \u001b[32m━━━━━━━━━━━━━━━━━━━━\u001b[0m\u001b[37m\u001b[0m \u001b[1m2s\u001b[0m 8ms/step - loss: 0.0037 - val_loss: 0.0110\n",
            "Epoch 3/50\n",
            "\u001b[1m52/52\u001b[0m \u001b[32m━━━━━━━━━━━━━━━━━━━━\u001b[0m\u001b[37m\u001b[0m \u001b[1m0s\u001b[0m 5ms/step - loss: 0.0020 - val_loss: 0.0081\n",
            "Epoch 4/50\n",
            "\u001b[1m52/52\u001b[0m \u001b[32m━━━━━━━━━━━━━━━━━━━━\u001b[0m\u001b[37m\u001b[0m \u001b[1m0s\u001b[0m 5ms/step - loss: 0.0017 - val_loss: 0.0073\n",
            "Epoch 5/50\n",
            "\u001b[1m52/52\u001b[0m \u001b[32m━━━━━━━━━━━━━━━━━━━━\u001b[0m\u001b[37m\u001b[0m \u001b[1m0s\u001b[0m 5ms/step - loss: 0.0017 - val_loss: 0.0074\n",
            "Epoch 6/50\n",
            "\u001b[1m52/52\u001b[0m \u001b[32m━━━━━━━━━━━━━━━━━━━━\u001b[0m\u001b[37m\u001b[0m \u001b[1m0s\u001b[0m 5ms/step - loss: 0.0016 - val_loss: 0.0076\n",
            "Epoch 7/50\n",
            "\u001b[1m52/52\u001b[0m \u001b[32m━━━━━━━━━━━━━━━━━━━━\u001b[0m\u001b[37m\u001b[0m \u001b[1m0s\u001b[0m 4ms/step - loss: 0.0016 - val_loss: 0.0072\n",
            "Epoch 8/50\n",
            "\u001b[1m52/52\u001b[0m \u001b[32m━━━━━━━━━━━━━━━━━━━━\u001b[0m\u001b[37m\u001b[0m \u001b[1m0s\u001b[0m 5ms/step - loss: 0.0016 - val_loss: 0.0073\n",
            "Epoch 9/50\n",
            "\u001b[1m52/52\u001b[0m \u001b[32m━━━━━━━━━━━━━━━━━━━━\u001b[0m\u001b[37m\u001b[0m \u001b[1m0s\u001b[0m 5ms/step - loss: 0.0017 - val_loss: 0.0075\n",
            "Epoch 10/50\n",
            "\u001b[1m52/52\u001b[0m \u001b[32m━━━━━━━━━━━━━━━━━━━━\u001b[0m\u001b[37m\u001b[0m \u001b[1m0s\u001b[0m 5ms/step - loss: 0.0018 - val_loss: 0.0071\n",
            "Epoch 11/50\n",
            "\u001b[1m52/52\u001b[0m \u001b[32m━━━━━━━━━━━━━━━━━━━━\u001b[0m\u001b[37m\u001b[0m \u001b[1m0s\u001b[0m 5ms/step - loss: 0.0015 - val_loss: 0.0070\n",
            "Epoch 12/50\n",
            "\u001b[1m52/52\u001b[0m \u001b[32m━━━━━━━━━━━━━━━━━━━━\u001b[0m\u001b[37m\u001b[0m \u001b[1m0s\u001b[0m 4ms/step - loss: 0.0015 - val_loss: 0.0070\n",
            "Epoch 13/50\n",
            "\u001b[1m52/52\u001b[0m \u001b[32m━━━━━━━━━━━━━━━━━━━━\u001b[0m\u001b[37m\u001b[0m \u001b[1m0s\u001b[0m 4ms/step - loss: 0.0018 - val_loss: 0.0070\n",
            "Epoch 14/50\n",
            "\u001b[1m52/52\u001b[0m \u001b[32m━━━━━━━━━━━━━━━━━━━━\u001b[0m\u001b[37m\u001b[0m \u001b[1m0s\u001b[0m 5ms/step - loss: 0.0015 - val_loss: 0.0070\n",
            "Epoch 15/50\n",
            "\u001b[1m52/52\u001b[0m \u001b[32m━━━━━━━━━━━━━━━━━━━━\u001b[0m\u001b[37m\u001b[0m \u001b[1m0s\u001b[0m 4ms/step - loss: 0.0015 - val_loss: 0.0070\n",
            "Epoch 16/50\n",
            "\u001b[1m52/52\u001b[0m \u001b[32m━━━━━━━━━━━━━━━━━━━━\u001b[0m\u001b[37m\u001b[0m \u001b[1m0s\u001b[0m 5ms/step - loss: 0.0016 - val_loss: 0.0072\n",
            "Epoch 17/50\n",
            "\u001b[1m52/52\u001b[0m \u001b[32m━━━━━━━━━━━━━━━━━━━━\u001b[0m\u001b[37m\u001b[0m \u001b[1m0s\u001b[0m 5ms/step - loss: 0.0017 - val_loss: 0.0068\n",
            "Epoch 18/50\n",
            "\u001b[1m52/52\u001b[0m \u001b[32m━━━━━━━━━━━━━━━━━━━━\u001b[0m\u001b[37m\u001b[0m \u001b[1m0s\u001b[0m 5ms/step - loss: 0.0016 - val_loss: 0.0069\n",
            "Epoch 19/50\n",
            "\u001b[1m52/52\u001b[0m \u001b[32m━━━━━━━━━━━━━━━━━━━━\u001b[0m\u001b[37m\u001b[0m \u001b[1m0s\u001b[0m 5ms/step - loss: 0.0015 - val_loss: 0.0077\n",
            "Epoch 20/50\n",
            "\u001b[1m52/52\u001b[0m \u001b[32m━━━━━━━━━━━━━━━━━━━━\u001b[0m\u001b[37m\u001b[0m \u001b[1m0s\u001b[0m 5ms/step - loss: 0.0017 - val_loss: 0.0067\n",
            "Epoch 21/50\n",
            "\u001b[1m52/52\u001b[0m \u001b[32m━━━━━━━━━━━━━━━━━━━━\u001b[0m\u001b[37m\u001b[0m \u001b[1m1s\u001b[0m 6ms/step - loss: 0.0014 - val_loss: 0.0067\n",
            "Epoch 22/50\n",
            "\u001b[1m52/52\u001b[0m \u001b[32m━━━━━━━━━━━━━━━━━━━━\u001b[0m\u001b[37m\u001b[0m \u001b[1m1s\u001b[0m 6ms/step - loss: 0.0016 - val_loss: 0.0077\n",
            "Epoch 23/50\n",
            "\u001b[1m52/52\u001b[0m \u001b[32m━━━━━━━━━━━━━━━━━━━━\u001b[0m\u001b[37m\u001b[0m \u001b[1m1s\u001b[0m 6ms/step - loss: 0.0018 - val_loss: 0.0066\n",
            "Epoch 24/50\n",
            "\u001b[1m52/52\u001b[0m \u001b[32m━━━━━━━━━━━━━━━━━━━━\u001b[0m\u001b[37m\u001b[0m \u001b[1m0s\u001b[0m 6ms/step - loss: 0.0015 - val_loss: 0.0073\n",
            "Epoch 25/50\n",
            "\u001b[1m52/52\u001b[0m \u001b[32m━━━━━━━━━━━━━━━━━━━━\u001b[0m\u001b[37m\u001b[0m \u001b[1m0s\u001b[0m 6ms/step - loss: 0.0016 - val_loss: 0.0066\n",
            "Epoch 26/50\n",
            "\u001b[1m52/52\u001b[0m \u001b[32m━━━━━━━━━━━━━━━━━━━━\u001b[0m\u001b[37m\u001b[0m \u001b[1m1s\u001b[0m 5ms/step - loss: 0.0014 - val_loss: 0.0064\n",
            "Epoch 27/50\n",
            "\u001b[1m52/52\u001b[0m \u001b[32m━━━━━━━━━━━━━━━━━━━━\u001b[0m\u001b[37m\u001b[0m \u001b[1m0s\u001b[0m 5ms/step - loss: 0.0015 - val_loss: 0.0063\n",
            "Epoch 28/50\n",
            "\u001b[1m52/52\u001b[0m \u001b[32m━━━━━━━━━━━━━━━━━━━━\u001b[0m\u001b[37m\u001b[0m \u001b[1m0s\u001b[0m 5ms/step - loss: 0.0015 - val_loss: 0.0071\n",
            "Epoch 29/50\n",
            "\u001b[1m52/52\u001b[0m \u001b[32m━━━━━━━━━━━━━━━━━━━━\u001b[0m\u001b[37m\u001b[0m \u001b[1m0s\u001b[0m 5ms/step - loss: 0.0015 - val_loss: 0.0062\n",
            "Epoch 30/50\n",
            "\u001b[1m52/52\u001b[0m \u001b[32m━━━━━━━━━━━━━━━━━━━━\u001b[0m\u001b[37m\u001b[0m \u001b[1m0s\u001b[0m 5ms/step - loss: 0.0014 - val_loss: 0.0061\n",
            "Epoch 31/50\n",
            "\u001b[1m52/52\u001b[0m \u001b[32m━━━━━━━━━━━━━━━━━━━━\u001b[0m\u001b[37m\u001b[0m \u001b[1m0s\u001b[0m 5ms/step - loss: 0.0018 - val_loss: 0.0065\n",
            "Epoch 32/50\n",
            "\u001b[1m52/52\u001b[0m \u001b[32m━━━━━━━━━━━━━━━━━━━━\u001b[0m\u001b[37m\u001b[0m \u001b[1m0s\u001b[0m 4ms/step - loss: 0.0016 - val_loss: 0.0059\n",
            "Epoch 33/50\n",
            "\u001b[1m52/52\u001b[0m \u001b[32m━━━━━━━━━━━━━━━━━━━━\u001b[0m\u001b[37m\u001b[0m \u001b[1m0s\u001b[0m 5ms/step - loss: 0.0015 - val_loss: 0.0060\n",
            "Epoch 34/50\n",
            "\u001b[1m52/52\u001b[0m \u001b[32m━━━━━━━━━━━━━━━━━━━━\u001b[0m\u001b[37m\u001b[0m \u001b[1m0s\u001b[0m 5ms/step - loss: 0.0015 - val_loss: 0.0068\n",
            "Epoch 35/50\n",
            "\u001b[1m52/52\u001b[0m \u001b[32m━━━━━━━━━━━━━━━━━━━━\u001b[0m\u001b[37m\u001b[0m \u001b[1m0s\u001b[0m 5ms/step - loss: 0.0015 - val_loss: 0.0059\n",
            "Epoch 36/50\n",
            "\u001b[1m52/52\u001b[0m \u001b[32m━━━━━━━━━━━━━━━━━━━━\u001b[0m\u001b[37m\u001b[0m \u001b[1m0s\u001b[0m 5ms/step - loss: 0.0015 - val_loss: 0.0054\n",
            "Epoch 37/50\n",
            "\u001b[1m52/52\u001b[0m \u001b[32m━━━━━━━━━━━━━━━━━━━━\u001b[0m\u001b[37m\u001b[0m \u001b[1m0s\u001b[0m 4ms/step - loss: 0.0013 - val_loss: 0.0053\n",
            "Epoch 38/50\n",
            "\u001b[1m52/52\u001b[0m \u001b[32m━━━━━━━━━━━━━━━━━━━━\u001b[0m\u001b[37m\u001b[0m \u001b[1m0s\u001b[0m 4ms/step - loss: 0.0014 - val_loss: 0.0051\n",
            "Epoch 39/50\n",
            "\u001b[1m52/52\u001b[0m \u001b[32m━━━━━━━━━━━━━━━━━━━━\u001b[0m\u001b[37m\u001b[0m \u001b[1m0s\u001b[0m 4ms/step - loss: 0.0013 - val_loss: 0.0049\n",
            "Epoch 40/50\n",
            "\u001b[1m52/52\u001b[0m \u001b[32m━━━━━━━━━━━━━━━━━━━━\u001b[0m\u001b[37m\u001b[0m \u001b[1m0s\u001b[0m 5ms/step - loss: 0.0014 - val_loss: 0.0056\n",
            "Epoch 41/50\n",
            "\u001b[1m52/52\u001b[0m \u001b[32m━━━━━━━━━━━━━━━━━━━━\u001b[0m\u001b[37m\u001b[0m \u001b[1m0s\u001b[0m 5ms/step - loss: 0.0012 - val_loss: 0.0053\n",
            "Epoch 42/50\n",
            "\u001b[1m52/52\u001b[0m \u001b[32m━━━━━━━━━━━━━━━━━━━━\u001b[0m\u001b[37m\u001b[0m \u001b[1m0s\u001b[0m 5ms/step - loss: 0.0013 - val_loss: 0.0053\n",
            "Epoch 43/50\n",
            "\u001b[1m52/52\u001b[0m \u001b[32m━━━━━━━━━━━━━━━━━━━━\u001b[0m\u001b[37m\u001b[0m \u001b[1m0s\u001b[0m 5ms/step - loss: 0.0013 - val_loss: 0.0043\n",
            "Epoch 44/50\n",
            "\u001b[1m52/52\u001b[0m \u001b[32m━━━━━━━━━━━━━━━━━━━━\u001b[0m\u001b[37m\u001b[0m \u001b[1m0s\u001b[0m 4ms/step - loss: 0.0012 - val_loss: 0.0039\n",
            "Epoch 45/50\n",
            "\u001b[1m52/52\u001b[0m \u001b[32m━━━━━━━━━━━━━━━━━━━━\u001b[0m\u001b[37m\u001b[0m \u001b[1m0s\u001b[0m 5ms/step - loss: 0.0013 - val_loss: 0.0040\n",
            "Epoch 46/50\n",
            "\u001b[1m52/52\u001b[0m \u001b[32m━━━━━━━━━━━━━━━━━━━━\u001b[0m\u001b[37m\u001b[0m \u001b[1m0s\u001b[0m 5ms/step - loss: 0.0011 - val_loss: 0.0059\n",
            "Epoch 47/50\n",
            "\u001b[1m52/52\u001b[0m \u001b[32m━━━━━━━━━━━━━━━━━━━━\u001b[0m\u001b[37m\u001b[0m \u001b[1m0s\u001b[0m 5ms/step - loss: 0.0013 - val_loss: 0.0044\n",
            "Epoch 48/50\n",
            "\u001b[1m52/52\u001b[0m \u001b[32m━━━━━━━━━━━━━━━━━━━━\u001b[0m\u001b[37m\u001b[0m \u001b[1m0s\u001b[0m 5ms/step - loss: 0.0011 - val_loss: 0.0035\n",
            "Epoch 49/50\n",
            "\u001b[1m52/52\u001b[0m \u001b[32m━━━━━━━━━━━━━━━━━━━━\u001b[0m\u001b[37m\u001b[0m \u001b[1m0s\u001b[0m 4ms/step - loss: 0.0011 - val_loss: 0.0032\n",
            "Epoch 50/50\n",
            "\u001b[1m52/52\u001b[0m \u001b[32m━━━━━━━━━━━━━━━━━━━━\u001b[0m\u001b[37m\u001b[0m \u001b[1m0s\u001b[0m 5ms/step - loss: 0.0012 - val_loss: 0.0031\n"
          ]
        },
        {
          "output_type": "execute_result",
          "data": {
            "text/plain": [
              "<keras.src.callbacks.history.History at 0x7a9c4b552210>"
            ]
          },
          "metadata": {},
          "execution_count": 27
        },
        {
          "output_type": "stream",
          "name": "stdout",
          "text": [
            "\u001b[1m1/1\u001b[0m \u001b[32m━━━━━━━━━━━━━━━━━━━━\u001b[0m\u001b[37m\u001b[0m \u001b[1m0s\u001b[0m 386ms/step\n",
            "Next demand forecast: 112.85433\n"
          ]
        }
      ]
    },
    {
      "cell_type": "markdown",
      "source": [
        "**LSTM Multivariate**"
      ],
      "metadata": {
        "id": "lAxKwHXn9P9o"
      }
    },
    {
      "cell_type": "code",
      "source": [
        "# multivariate_lstm_example.py\n",
        "import numpy as np\n",
        "import pandas as pd\n",
        "from sklearn.preprocessing import MinMaxScaler\n",
        "from sklearn.metrics import mean_squared_error\n",
        "import tensorflow as tf\n",
        "from tensorflow.keras.models import Sequential\n",
        "from tensorflow.keras.layers import LSTM, Dense, Dropout\n",
        "from tensorflow.keras.callbacks import EarlyStopping\n",
        "\n",
        "# ---------------------------\n",
        "# 1) Fake example dataset\n",
        "# ---------------------------\n",
        "# create a synthetic multivariate timeseries: 3 features\n",
        "np.random.seed(42)\n",
        "n_samples = 2000\n",
        "t = np.arange(n_samples)\n",
        "feat1 = np.sin(0.02 * t)            # seasonal signal\n",
        "feat2 = 0.001 * t + 0.1 * np.random.randn(n_samples)  # slow trend + noise\n",
        "feat3 = np.cos(0.04 * t) * 0.5     # another seasonal\n",
        "\n",
        "df = pd.DataFrame({\n",
        "    \"feat1\": feat1,\n",
        "    \"feat2\": feat2,\n",
        "    \"feat3\": feat3\n",
        "})\n",
        "\n",
        "# target: next-step value of feat1 (you can change to any other variable or multi-output)\n",
        "df['target'] = df['feat1'].shift(-1)\n",
        "df = df.dropna().reset_index(drop=True)\n",
        "\n",
        "# ---------------------------\n",
        "# 2) Scale features\n",
        "# ---------------------------\n",
        "feature_cols = ['feat1', 'feat2', 'feat3']\n",
        "target_col = ['target']\n",
        "\n",
        "scaler_X = MinMaxScaler()\n",
        "scaler_y = MinMaxScaler()\n",
        "\n",
        "X_scaled = scaler_X.fit_transform(df[feature_cols])\n",
        "y_scaled = scaler_y.fit_transform(df[target_col])\n",
        "\n",
        "# ---------------------------\n",
        "# 3) Windowing (create sequences)\n",
        "# ---------------------------\n",
        "def create_sequences(X, y, seq_len=30):\n",
        "    Xs, ys = [], []\n",
        "    for i in range(len(X) - seq_len):\n",
        "        Xs.append(X[i:(i + seq_len)])\n",
        "        ys.append(y[i + seq_len])  # predicting single step after window\n",
        "    return np.array(Xs), np.array(ys)\n",
        "\n",
        "SEQ_LEN = 30\n",
        "X_seq, y_seq = create_sequences(X_scaled, y_scaled, seq_len=SEQ_LEN)\n",
        "\n",
        "# ---------------------------\n",
        "# 4) Train/test split\n",
        "# ---------------------------\n",
        "split = int(0.8 * len(X_seq))\n",
        "X_train, X_test = X_seq[:split], X_seq[split:]\n",
        "y_train, y_test = y_seq[:split], y_seq[split:]\n",
        "\n",
        "print(\"X_train shape:\", X_train.shape)  # (n_samples, seq_len, n_features)\n",
        "print(\"y_train shape:\", y_train.shape)  # (n_samples, 1)\n",
        "\n",
        "# ---------------------------\n",
        "# 5) Build LSTM model\n",
        "# ---------------------------\n",
        "n_features = X_train.shape[2]\n",
        "\n",
        "model = Sequential([\n",
        "    LSTM(64, input_shape=(SEQ_LEN, n_features), return_sequences=True),\n",
        "    Dropout(0.2),\n",
        "    LSTM(32, return_sequences=False),\n",
        "    Dropout(0.2),\n",
        "    Dense(16, activation='relu'),\n",
        "    Dense(1)  # single-step, single-output\n",
        "])\n",
        "\n",
        "model.compile(optimizer='adam', loss='mse', metrics=['mae'])\n",
        "model.summary()\n",
        "\n",
        "# ---------------------------\n",
        "# 6) Train\n",
        "# ---------------------------\n",
        "es = EarlyStopping(monitor='val_loss', patience=8, restore_best_weights=True, verbose=1)\n",
        "\n",
        "history = model.fit(\n",
        "    X_train, y_train,\n",
        "    validation_split=0.2,\n",
        "    epochs=100,\n",
        "    batch_size=32,\n",
        "    callbacks=[es],\n",
        "    verbose=2\n",
        ")\n",
        "\n",
        "# ---------------------------\n",
        "# 7) Evaluate and predict\n",
        "# ---------------------------\n",
        "loss, mae = model.evaluate(X_test, y_test, verbose=0)\n",
        "print(f\"Test MSE: {loss:.6f}, Test MAE: {mae:.6f}\")\n",
        "\n",
        "# predict and invert scaling\n",
        "y_pred_scaled = model.predict(X_test)\n",
        "y_pred = scaler_y.inverse_transform(y_pred_scaled)\n",
        "y_true = scaler_y.inverse_transform(y_test)\n",
        "\n",
        "rmse = np.sqrt(mean_squared_error(y_true, y_pred))\n",
        "print(f\"Test RMSE (original scale): {rmse:.6f}\")\n",
        "\n",
        "# show a small sample\n",
        "for i in range(5):\n",
        "    print(f\"true={y_true[i,0]:.4f}  pred={y_pred[i,0]:.4f}\")"
      ],
      "metadata": {
        "colab": {
          "base_uri": "https://localhost:8080/",
          "height": 1000
        },
        "id": "yEcZc8H78s64",
        "outputId": "81420c18-803c-44d2-9c79-d39102f3ee9e"
      },
      "execution_count": 1,
      "outputs": [
        {
          "output_type": "stream",
          "name": "stdout",
          "text": [
            "X_train shape: (1575, 30, 3)\n",
            "y_train shape: (1575, 1)\n"
          ]
        },
        {
          "output_type": "stream",
          "name": "stderr",
          "text": [
            "/usr/local/lib/python3.11/dist-packages/keras/src/layers/rnn/rnn.py:199: UserWarning: Do not pass an `input_shape`/`input_dim` argument to a layer. When using Sequential models, prefer using an `Input(shape)` object as the first layer in the model instead.\n",
            "  super().__init__(**kwargs)\n"
          ]
        },
        {
          "output_type": "display_data",
          "data": {
            "text/plain": [
              "\u001b[1mModel: \"sequential\"\u001b[0m\n"
            ],
            "text/html": [
              "<pre style=\"white-space:pre;overflow-x:auto;line-height:normal;font-family:Menlo,'DejaVu Sans Mono',consolas,'Courier New',monospace\"><span style=\"font-weight: bold\">Model: \"sequential\"</span>\n",
              "</pre>\n"
            ]
          },
          "metadata": {}
        },
        {
          "output_type": "display_data",
          "data": {
            "text/plain": [
              "┏━━━━━━━━━━━━━━━━━━━━━━━━━━━━━━━━━┳━━━━━━━━━━━━━━━━━━━━━━━━┳━━━━━━━━━━━━━━━┓\n",
              "┃\u001b[1m \u001b[0m\u001b[1mLayer (type)                   \u001b[0m\u001b[1m \u001b[0m┃\u001b[1m \u001b[0m\u001b[1mOutput Shape          \u001b[0m\u001b[1m \u001b[0m┃\u001b[1m \u001b[0m\u001b[1m      Param #\u001b[0m\u001b[1m \u001b[0m┃\n",
              "┡━━━━━━━━━━━━━━━━━━━━━━━━━━━━━━━━━╇━━━━━━━━━━━━━━━━━━━━━━━━╇━━━━━━━━━━━━━━━┩\n",
              "│ lstm (\u001b[38;5;33mLSTM\u001b[0m)                     │ (\u001b[38;5;45mNone\u001b[0m, \u001b[38;5;34m30\u001b[0m, \u001b[38;5;34m64\u001b[0m)         │        \u001b[38;5;34m17,408\u001b[0m │\n",
              "├─────────────────────────────────┼────────────────────────┼───────────────┤\n",
              "│ dropout (\u001b[38;5;33mDropout\u001b[0m)               │ (\u001b[38;5;45mNone\u001b[0m, \u001b[38;5;34m30\u001b[0m, \u001b[38;5;34m64\u001b[0m)         │             \u001b[38;5;34m0\u001b[0m │\n",
              "├─────────────────────────────────┼────────────────────────┼───────────────┤\n",
              "│ lstm_1 (\u001b[38;5;33mLSTM\u001b[0m)                   │ (\u001b[38;5;45mNone\u001b[0m, \u001b[38;5;34m32\u001b[0m)             │        \u001b[38;5;34m12,416\u001b[0m │\n",
              "├─────────────────────────────────┼────────────────────────┼───────────────┤\n",
              "│ dropout_1 (\u001b[38;5;33mDropout\u001b[0m)             │ (\u001b[38;5;45mNone\u001b[0m, \u001b[38;5;34m32\u001b[0m)             │             \u001b[38;5;34m0\u001b[0m │\n",
              "├─────────────────────────────────┼────────────────────────┼───────────────┤\n",
              "│ dense (\u001b[38;5;33mDense\u001b[0m)                   │ (\u001b[38;5;45mNone\u001b[0m, \u001b[38;5;34m16\u001b[0m)             │           \u001b[38;5;34m528\u001b[0m │\n",
              "├─────────────────────────────────┼────────────────────────┼───────────────┤\n",
              "│ dense_1 (\u001b[38;5;33mDense\u001b[0m)                 │ (\u001b[38;5;45mNone\u001b[0m, \u001b[38;5;34m1\u001b[0m)              │            \u001b[38;5;34m17\u001b[0m │\n",
              "└─────────────────────────────────┴────────────────────────┴───────────────┘\n"
            ],
            "text/html": [
              "<pre style=\"white-space:pre;overflow-x:auto;line-height:normal;font-family:Menlo,'DejaVu Sans Mono',consolas,'Courier New',monospace\">┏━━━━━━━━━━━━━━━━━━━━━━━━━━━━━━━━━┳━━━━━━━━━━━━━━━━━━━━━━━━┳━━━━━━━━━━━━━━━┓\n",
              "┃<span style=\"font-weight: bold\"> Layer (type)                    </span>┃<span style=\"font-weight: bold\"> Output Shape           </span>┃<span style=\"font-weight: bold\">       Param # </span>┃\n",
              "┡━━━━━━━━━━━━━━━━━━━━━━━━━━━━━━━━━╇━━━━━━━━━━━━━━━━━━━━━━━━╇━━━━━━━━━━━━━━━┩\n",
              "│ lstm (<span style=\"color: #0087ff; text-decoration-color: #0087ff\">LSTM</span>)                     │ (<span style=\"color: #00d7ff; text-decoration-color: #00d7ff\">None</span>, <span style=\"color: #00af00; text-decoration-color: #00af00\">30</span>, <span style=\"color: #00af00; text-decoration-color: #00af00\">64</span>)         │        <span style=\"color: #00af00; text-decoration-color: #00af00\">17,408</span> │\n",
              "├─────────────────────────────────┼────────────────────────┼───────────────┤\n",
              "│ dropout (<span style=\"color: #0087ff; text-decoration-color: #0087ff\">Dropout</span>)               │ (<span style=\"color: #00d7ff; text-decoration-color: #00d7ff\">None</span>, <span style=\"color: #00af00; text-decoration-color: #00af00\">30</span>, <span style=\"color: #00af00; text-decoration-color: #00af00\">64</span>)         │             <span style=\"color: #00af00; text-decoration-color: #00af00\">0</span> │\n",
              "├─────────────────────────────────┼────────────────────────┼───────────────┤\n",
              "│ lstm_1 (<span style=\"color: #0087ff; text-decoration-color: #0087ff\">LSTM</span>)                   │ (<span style=\"color: #00d7ff; text-decoration-color: #00d7ff\">None</span>, <span style=\"color: #00af00; text-decoration-color: #00af00\">32</span>)             │        <span style=\"color: #00af00; text-decoration-color: #00af00\">12,416</span> │\n",
              "├─────────────────────────────────┼────────────────────────┼───────────────┤\n",
              "│ dropout_1 (<span style=\"color: #0087ff; text-decoration-color: #0087ff\">Dropout</span>)             │ (<span style=\"color: #00d7ff; text-decoration-color: #00d7ff\">None</span>, <span style=\"color: #00af00; text-decoration-color: #00af00\">32</span>)             │             <span style=\"color: #00af00; text-decoration-color: #00af00\">0</span> │\n",
              "├─────────────────────────────────┼────────────────────────┼───────────────┤\n",
              "│ dense (<span style=\"color: #0087ff; text-decoration-color: #0087ff\">Dense</span>)                   │ (<span style=\"color: #00d7ff; text-decoration-color: #00d7ff\">None</span>, <span style=\"color: #00af00; text-decoration-color: #00af00\">16</span>)             │           <span style=\"color: #00af00; text-decoration-color: #00af00\">528</span> │\n",
              "├─────────────────────────────────┼────────────────────────┼───────────────┤\n",
              "│ dense_1 (<span style=\"color: #0087ff; text-decoration-color: #0087ff\">Dense</span>)                 │ (<span style=\"color: #00d7ff; text-decoration-color: #00d7ff\">None</span>, <span style=\"color: #00af00; text-decoration-color: #00af00\">1</span>)              │            <span style=\"color: #00af00; text-decoration-color: #00af00\">17</span> │\n",
              "└─────────────────────────────────┴────────────────────────┴───────────────┘\n",
              "</pre>\n"
            ]
          },
          "metadata": {}
        },
        {
          "output_type": "display_data",
          "data": {
            "text/plain": [
              "\u001b[1m Total params: \u001b[0m\u001b[38;5;34m30,369\u001b[0m (118.63 KB)\n"
            ],
            "text/html": [
              "<pre style=\"white-space:pre;overflow-x:auto;line-height:normal;font-family:Menlo,'DejaVu Sans Mono',consolas,'Courier New',monospace\"><span style=\"font-weight: bold\"> Total params: </span><span style=\"color: #00af00; text-decoration-color: #00af00\">30,369</span> (118.63 KB)\n",
              "</pre>\n"
            ]
          },
          "metadata": {}
        },
        {
          "output_type": "display_data",
          "data": {
            "text/plain": [
              "\u001b[1m Trainable params: \u001b[0m\u001b[38;5;34m30,369\u001b[0m (118.63 KB)\n"
            ],
            "text/html": [
              "<pre style=\"white-space:pre;overflow-x:auto;line-height:normal;font-family:Menlo,'DejaVu Sans Mono',consolas,'Courier New',monospace\"><span style=\"font-weight: bold\"> Trainable params: </span><span style=\"color: #00af00; text-decoration-color: #00af00\">30,369</span> (118.63 KB)\n",
              "</pre>\n"
            ]
          },
          "metadata": {}
        },
        {
          "output_type": "display_data",
          "data": {
            "text/plain": [
              "\u001b[1m Non-trainable params: \u001b[0m\u001b[38;5;34m0\u001b[0m (0.00 B)\n"
            ],
            "text/html": [
              "<pre style=\"white-space:pre;overflow-x:auto;line-height:normal;font-family:Menlo,'DejaVu Sans Mono',consolas,'Courier New',monospace\"><span style=\"font-weight: bold\"> Non-trainable params: </span><span style=\"color: #00af00; text-decoration-color: #00af00\">0</span> (0.00 B)\n",
              "</pre>\n"
            ]
          },
          "metadata": {}
        },
        {
          "output_type": "stream",
          "name": "stdout",
          "text": [
            "Epoch 1/100\n",
            "40/40 - 9s - 214ms/step - loss: 0.0989 - mae: 0.2261 - val_loss: 0.0086 - val_mae: 0.0714\n",
            "Epoch 2/100\n",
            "40/40 - 1s - 29ms/step - loss: 0.0123 - mae: 0.0833 - val_loss: 0.0038 - val_mae: 0.0541\n",
            "Epoch 3/100\n",
            "40/40 - 0s - 9ms/step - loss: 0.0082 - mae: 0.0695 - val_loss: 0.0021 - val_mae: 0.0404\n",
            "Epoch 4/100\n",
            "40/40 - 1s - 15ms/step - loss: 0.0071 - mae: 0.0611 - val_loss: 0.0019 - val_mae: 0.0362\n",
            "Epoch 5/100\n",
            "40/40 - 1s - 16ms/step - loss: 0.0044 - mae: 0.0476 - val_loss: 6.2093e-04 - val_mae: 0.0207\n",
            "Epoch 6/100\n",
            "40/40 - 0s - 9ms/step - loss: 0.0045 - mae: 0.0465 - val_loss: 6.8164e-04 - val_mae: 0.0250\n",
            "Epoch 7/100\n",
            "40/40 - 0s - 10ms/step - loss: 0.0041 - mae: 0.0447 - val_loss: 3.9306e-04 - val_mae: 0.0160\n",
            "Epoch 8/100\n",
            "40/40 - 1s - 15ms/step - loss: 0.0034 - mae: 0.0403 - val_loss: 1.0705e-04 - val_mae: 0.0083\n",
            "Epoch 9/100\n",
            "40/40 - 0s - 9ms/step - loss: 0.0034 - mae: 0.0415 - val_loss: 5.3196e-04 - val_mae: 0.0214\n",
            "Epoch 10/100\n",
            "40/40 - 0s - 9ms/step - loss: 0.0031 - mae: 0.0386 - val_loss: 6.8264e-05 - val_mae: 0.0072\n",
            "Epoch 11/100\n",
            "40/40 - 0s - 9ms/step - loss: 0.0034 - mae: 0.0412 - val_loss: 1.0538e-04 - val_mae: 0.0093\n",
            "Epoch 12/100\n",
            "40/40 - 1s - 16ms/step - loss: 0.0033 - mae: 0.0404 - val_loss: 0.0028 - val_mae: 0.0428\n",
            "Epoch 13/100\n",
            "40/40 - 0s - 10ms/step - loss: 0.0028 - mae: 0.0372 - val_loss: 1.7366e-04 - val_mae: 0.0109\n",
            "Epoch 14/100\n",
            "40/40 - 1s - 15ms/step - loss: 0.0033 - mae: 0.0404 - val_loss: 0.0044 - val_mae: 0.0587\n",
            "Epoch 15/100\n",
            "40/40 - 1s - 15ms/step - loss: 0.0033 - mae: 0.0403 - val_loss: 4.0060e-04 - val_mae: 0.0177\n",
            "Epoch 16/100\n",
            "40/40 - 0s - 9ms/step - loss: 0.0024 - mae: 0.0336 - val_loss: 0.0012 - val_mae: 0.0278\n",
            "Epoch 17/100\n",
            "40/40 - 0s - 10ms/step - loss: 0.0025 - mae: 0.0345 - val_loss: 6.2441e-04 - val_mae: 0.0199\n",
            "Epoch 18/100\n",
            "40/40 - 0s - 9ms/step - loss: 0.0025 - mae: 0.0347 - val_loss: 0.0013 - val_mae: 0.0297\n",
            "Epoch 18: early stopping\n",
            "Restoring model weights from the end of the best epoch: 10.\n",
            "Test MSE: 0.000094, Test MAE: 0.008327\n",
            "\u001b[1m13/13\u001b[0m \u001b[32m━━━━━━━━━━━━━━━━━━━━\u001b[0m\u001b[37m\u001b[0m \u001b[1m0s\u001b[0m 16ms/step\n",
            "Test RMSE (original scale): 0.019427\n",
            "true=0.6473  pred=0.6748\n",
            "true=0.6624  pred=0.6892\n",
            "true=0.6773  pred=0.7030\n",
            "true=0.6919  pred=0.7160\n",
            "true=0.7062  pred=0.7290\n"
          ]
        }
      ]
    },
    {
      "cell_type": "code",
      "source": [
        "import matplotlib.pyplot as plt\n",
        "import pandas as pd\n",
        "\n",
        "# Assuming you have y_true, y_pred (both shape [n,1]) and a corresponding datetime index\n",
        "df_plot = pd.DataFrame({\n",
        "    'Actual': y_true.flatten(),\n",
        "    'Predicted': y_pred.flatten()\n",
        "}, index=pd.date_range(start='2020-01-01', periods=len(y_true), freq='D'))\n",
        "\n",
        "plt.figure(figsize=(12, 6))\n",
        "\n",
        "# Plot actual values\n",
        "plt.plot(df_plot['Actual'], label='Actual', color='blue')\n",
        "\n",
        "# Plot predictions\n",
        "plt.plot(df_plot['Predicted'], label='Predicted', linestyle='--', color='orange')\n",
        "\n",
        "# Highlight forecasted area (e.g., last 10%)\n",
        "highlight_start = int(0.9 * len(df_plot))\n",
        "plt.axvspan(df_plot.index[highlight_start], df_plot.index[-1], facecolor='lightgreen', alpha=0.3, label='Forecast')\n",
        "\n",
        "plt.title(\"Actual vs Predicted (LSTM Forecast)\")\n",
        "plt.xlabel(\"Date\")\n",
        "plt.ylabel(\"Value\")\n",
        "plt.legend()\n",
        "plt.show()"
      ],
      "metadata": {
        "colab": {
          "base_uri": "https://localhost:8080/",
          "height": 564
        },
        "id": "7ZqBhzYr9KCj",
        "outputId": "27368d19-96b5-4f20-fe65-0fe2767cf544"
      },
      "execution_count": 2,
      "outputs": [
        {
          "output_type": "display_data",
          "data": {
            "text/plain": [
              "<Figure size 1200x600 with 1 Axes>"
            ],
            "image/png": "[encoded data removed]"
          },
          "metadata": {}
        }
      ]
    }
  ]
}